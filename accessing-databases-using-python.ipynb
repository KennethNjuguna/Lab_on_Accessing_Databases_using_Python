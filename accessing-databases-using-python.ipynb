{
 "cells": [
  {
   "cell_type": "markdown",
   "id": "ec6553c7",
   "metadata": {
    "papermill": {
     "duration": 0.00433,
     "end_time": "2023-10-06T17:08:17.780334",
     "exception": false,
     "start_time": "2023-10-06T17:08:17.776004",
     "status": "completed"
    },
    "tags": []
   },
   "source": [
    "# Create & Access SQLite database using Python\n",
    "\n",
    "SQLite is a software library that implements a self-contained, serverless, zero-configuration, transactional SQL database engine. SQLite is the most widely deployed SQL database engine in the world."
   ]
  },
  {
   "cell_type": "code",
   "execution_count": 1,
   "id": "4d5e888a",
   "metadata": {
    "execution": {
     "iopub.execute_input": "2023-10-06T17:08:17.792262Z",
     "iopub.status.busy": "2023-10-06T17:08:17.791656Z",
     "iopub.status.idle": "2023-10-06T17:08:17.800530Z",
     "shell.execute_reply": "2023-10-06T17:08:17.799752Z"
    },
    "papermill": {
     "duration": 0.015404,
     "end_time": "2023-10-06T17:08:17.802419",
     "exception": false,
     "start_time": "2023-10-06T17:08:17.787015",
     "status": "completed"
    },
    "tags": []
   },
   "outputs": [],
   "source": [
    "#Import the required libraries\n",
    "import sqlite3"
   ]
  },
  {
   "cell_type": "code",
   "execution_count": 2,
   "id": "c44d20f8",
   "metadata": {
    "execution": {
     "iopub.execute_input": "2023-10-06T17:08:17.810219Z",
     "iopub.status.busy": "2023-10-06T17:08:17.809543Z",
     "iopub.status.idle": "2023-10-06T17:08:17.813679Z",
     "shell.execute_reply": "2023-10-06T17:08:17.812961Z"
    },
    "papermill": {
     "duration": 0.010138,
     "end_time": "2023-10-06T17:08:17.815587",
     "exception": false,
     "start_time": "2023-10-06T17:08:17.805449",
     "status": "completed"
    },
    "tags": []
   },
   "outputs": [],
   "source": [
    "#connect to sqlite\n",
    "#connection object\n",
    "conn = sqlite3.connect('INSTRUCTOR.db')"
   ]
  },
  {
   "cell_type": "markdown",
   "id": "e72c34c1",
   "metadata": {
    "papermill": {
     "duration": 0.002626,
     "end_time": "2023-10-06T17:08:17.821359",
     "exception": false,
     "start_time": "2023-10-06T17:08:17.818733",
     "status": "completed"
    },
    "tags": []
   },
   "source": [
    "Cursor class is an instance using which you can invoke methods that execute SQLite statements, fetch data from the result sets of the queries. You can create Cursor object using the cursor() method of the Connection object/class.Cursor class is an instance."
   ]
  },
  {
   "cell_type": "code",
   "execution_count": 3,
   "id": "b2d021c6",
   "metadata": {
    "execution": {
     "iopub.execute_input": "2023-10-06T17:08:17.828879Z",
     "iopub.status.busy": "2023-10-06T17:08:17.827974Z",
     "iopub.status.idle": "2023-10-06T17:08:17.831961Z",
     "shell.execute_reply": "2023-10-06T17:08:17.831206Z"
    },
    "papermill": {
     "duration": 0.009865,
     "end_time": "2023-10-06T17:08:17.833842",
     "exception": false,
     "start_time": "2023-10-06T17:08:17.823977",
     "status": "completed"
    },
    "tags": []
   },
   "outputs": [],
   "source": [
    "# cursor object\n",
    "cursor_obj=conn.cursor()"
   ]
  },
  {
   "cell_type": "markdown",
   "id": "074ba47f",
   "metadata": {
    "papermill": {
     "duration": 0.002405,
     "end_time": "2023-10-06T17:08:17.838917",
     "exception": false,
     "start_time": "2023-10-06T17:08:17.836512",
     "status": "completed"
    },
    "tags": []
   },
   "source": [
    "# Create a table in the database\n",
    "\n",
    "Before creating a table, let's first if the table already exist or not. To drop the table from a database use **DROP** query. A cursor is an object which helps to execute the query and fetch the records from the database.\n"
   ]
  },
  {
   "cell_type": "code",
   "execution_count": 4,
   "id": "45a78d57",
   "metadata": {
    "execution": {
     "iopub.execute_input": "2023-10-06T17:08:17.845895Z",
     "iopub.status.busy": "2023-10-06T17:08:17.845313Z",
     "iopub.status.idle": "2023-10-06T17:08:17.852605Z",
     "shell.execute_reply": "2023-10-06T17:08:17.851868Z"
    },
    "papermill": {
     "duration": 0.01309,
     "end_time": "2023-10-06T17:08:17.854419",
     "exception": false,
     "start_time": "2023-10-06T17:08:17.841329",
     "status": "completed"
    },
    "tags": []
   },
   "outputs": [
    {
     "data": {
      "text/plain": [
       "<sqlite3.Cursor at 0x7df072beb5c0>"
      ]
     },
     "execution_count": 4,
     "metadata": {},
     "output_type": "execute_result"
    }
   ],
   "source": [
    "#Drop the table if already exists\n",
    "cursor_obj.execute(\"DROP TABLE IF EXISTS INSTRUCTOR\")"
   ]
  },
  {
   "cell_type": "markdown",
   "id": "472ec665",
   "metadata": {
    "papermill": {
     "duration": 0.002522,
     "end_time": "2023-10-06T17:08:17.859796",
     "exception": false,
     "start_time": "2023-10-06T17:08:17.857274",
     "status": "completed"
    },
    "tags": []
   },
   "source": [
    "**Creating Table**"
   ]
  },
  {
   "cell_type": "code",
   "execution_count": 5,
   "id": "2ac9d6cb",
   "metadata": {
    "execution": {
     "iopub.execute_input": "2023-10-06T17:08:17.867145Z",
     "iopub.status.busy": "2023-10-06T17:08:17.866485Z",
     "iopub.status.idle": "2023-10-06T17:08:17.885318Z",
     "shell.execute_reply": "2023-10-06T17:08:17.884565Z"
    },
    "papermill": {
     "duration": 0.025143,
     "end_time": "2023-10-06T17:08:17.887555",
     "exception": false,
     "start_time": "2023-10-06T17:08:17.862412",
     "status": "completed"
    },
    "tags": []
   },
   "outputs": [
    {
     "name": "stdout",
     "output_type": "stream",
     "text": [
      "Table is Ready\n"
     ]
    }
   ],
   "source": [
    "# Creating table\n",
    "table = \"\"\" create table IF NOT EXISTS INSTRUCTOR(ID INTEGER PRIMARY KEY NOT NULL, FNAME VARCHAR(20), LNAME VARCHAR(20), CITY VARCHAR(20), CCODE CHAR(2));\"\"\"\n",
    " \n",
    "cursor_obj.execute(table)\n",
    " \n",
    "print(\"Table is Ready\")"
   ]
  },
  {
   "cell_type": "markdown",
   "id": "eb9c8daa",
   "metadata": {
    "papermill": {
     "duration": 0.002771,
     "end_time": "2023-10-06T17:08:17.893601",
     "exception": false,
     "start_time": "2023-10-06T17:08:17.890830",
     "status": "completed"
    },
    "tags": []
   },
   "source": [
    "# Insert data into the table"
   ]
  },
  {
   "cell_type": "code",
   "execution_count": 6,
   "id": "f6f4024e",
   "metadata": {
    "execution": {
     "iopub.execute_input": "2023-10-06T17:08:17.901410Z",
     "iopub.status.busy": "2023-10-06T17:08:17.900977Z",
     "iopub.status.idle": "2023-10-06T17:08:17.907555Z",
     "shell.execute_reply": "2023-10-06T17:08:17.906807Z"
    },
    "papermill": {
     "duration": 0.012972,
     "end_time": "2023-10-06T17:08:17.909386",
     "exception": false,
     "start_time": "2023-10-06T17:08:17.896414",
     "status": "completed"
    },
    "tags": []
   },
   "outputs": [
    {
     "data": {
      "text/plain": [
       "<sqlite3.Cursor at 0x7df072beb5c0>"
      ]
     },
     "execution_count": 6,
     "metadata": {},
     "output_type": "execute_result"
    }
   ],
   "source": [
    "cursor_obj.execute('''insert into INSTRUCTOR values (1, 'Rav', 'Ahuja', 'TORONTO', 'CA')''')"
   ]
  },
  {
   "cell_type": "code",
   "execution_count": 7,
   "id": "d43d0d81",
   "metadata": {
    "execution": {
     "iopub.execute_input": "2023-10-06T17:08:17.917970Z",
     "iopub.status.busy": "2023-10-06T17:08:17.916860Z",
     "iopub.status.idle": "2023-10-06T17:08:17.924259Z",
     "shell.execute_reply": "2023-10-06T17:08:17.923122Z"
    },
    "papermill": {
     "duration": 0.013934,
     "end_time": "2023-10-06T17:08:17.926499",
     "exception": false,
     "start_time": "2023-10-06T17:08:17.912565",
     "status": "completed"
    },
    "tags": []
   },
   "outputs": [
    {
     "data": {
      "text/plain": [
       "<sqlite3.Cursor at 0x7df072beb5c0>"
      ]
     },
     "execution_count": 7,
     "metadata": {},
     "output_type": "execute_result"
    }
   ],
   "source": [
    "#insert data into the next two rows.\n",
    "cursor_obj.execute('''insert into INSTRUCTOR values (2, 'Raul', 'Chong', 'Markham', 'CA'), (3, 'Hima', 'Vasudevan', 'Chicago', 'US')''')"
   ]
  }
 ],
 "metadata": {
  "kernelspec": {
   "display_name": "Python 3",
   "language": "python",
   "name": "python3"
  },
  "language_info": {
   "codemirror_mode": {
    "name": "ipython",
    "version": 3
   },
   "file_extension": ".py",
   "mimetype": "text/x-python",
   "name": "python",
   "nbconvert_exporter": "python",
   "pygments_lexer": "ipython3",
   "version": "3.10.12"
  },
  "papermill": {
   "default_parameters": {},
   "duration": 3.896093,
   "end_time": "2023-10-06T17:08:18.349886",
   "environment_variables": {},
   "exception": null,
   "input_path": "__notebook__.ipynb",
   "output_path": "__notebook__.ipynb",
   "parameters": {},
   "start_time": "2023-10-06T17:08:14.453793",
   "version": "2.4.0"
  }
 },
 "nbformat": 4,
 "nbformat_minor": 5
}
